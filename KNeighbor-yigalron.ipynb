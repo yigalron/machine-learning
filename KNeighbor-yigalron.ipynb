{
 "cells": [
  {
   "cell_type": "code",
   "execution_count": 1,
   "metadata": {
    "collapsed": true
   },
   "outputs": [],
   "source": [
    "import os\n",
    "import urllib\n",
    "import random\n",
    "import warnings\n",
    "\n",
    "import pandas as pd\n",
    "import numpy as np\n",
    "import matplotlib.pyplot as plt\n",
    "from matplotlib.colors import ListedColormap\n",
    "import seaborn as sns\n",
    "\n",
    "from sklearn import preprocessing, grid_search\n",
    "from sklearn.cross_validation import train_test_split\n",
    "from sklearn.metrics import roc_auc_score, roc_curve\n",
    "from sklearn.pipeline import make_pipeline\n",
    "from sklearn.preprocessing import StandardScaler\n",
    "from sklearn.feature_selection import SelectKBest\n",
    "\n",
    "from sklearn import neighbors\n",
    "from sklearn.neighbors import NearestNeighbors\n",
    "from statsmodels.robust.scale import mad\n"
   ]
  },
  {
   "cell_type": "code",
   "execution_count": 2,
   "metadata": {
    "collapsed": true
   },
   "outputs": [],
   "source": [
    "param_grid = {\n",
    "    'n_neighbors': [5, 10, 20, 30, 40, 50],\n",
    "    'weights': ['uniform'],\n",
    "}\n"
   ]
  },
  {
   "cell_type": "code",
   "execution_count": 3,
   "metadata": {
    "collapsed": true
   },
   "outputs": [],
   "source": [
    "%matplotlib inline\n",
    "plt.style.use('seaborn-notebook')\n"
   ]
  },
  {
   "cell_type": "code",
   "execution_count": 4,
   "metadata": {
    "collapsed": true
   },
   "outputs": [],
   "source": [
    "# We're going to be building a 'TP53' classifier \n",
    "GENE = 'TP53'\n"
   ]
  },
  {
   "cell_type": "code",
   "execution_count": 5,
   "metadata": {
    "collapsed": true
   },
   "outputs": [],
   "source": [
    "if not os.path.exists('data'):\n",
    "    os.makedirs('data')\n"
   ]
  },
  {
   "cell_type": "code",
   "execution_count": 6,
   "metadata": {
    "collapsed": true
   },
   "outputs": [],
   "source": [
    "url_to_path = {\n",
    "    # X matrix\n",
    "    'https://ndownloader.figshare.com/files/5514386':\n",
    "        os.path.join('data', 'expression.tsv.bz2'),\n",
    "    # Y Matrix\n",
    "    'https://ndownloader.figshare.com/files/5514389':\n",
    "        os.path.join('data', 'mutation-matrix.tsv.bz2'),\n",
    "}\n",
    "\n",
    "for url, path in url_to_path.items():\n",
    "    if not os.path.exists(path):\n",
    "        urllib.request.urlretrieve(url, path)\n"
   ]
  },
  {
   "cell_type": "code",
   "execution_count": 7,
   "metadata": {
    "collapsed": false
   },
   "outputs": [
    {
     "name": "stdout",
     "output_type": "stream",
     "text": [
      "Wall time: 2min 15s\n"
     ]
    }
   ],
   "source": [
    "%%time\n",
    "path = os.path.join('data', 'expression.tsv.bz2')\n",
    "X = pd.read_table(path, index_col=0)\n"
   ]
  },
  {
   "cell_type": "code",
   "execution_count": 8,
   "metadata": {
    "collapsed": false
   },
   "outputs": [
    {
     "name": "stdout",
     "output_type": "stream",
     "text": [
      "Wall time: 1min 54s\n"
     ]
    }
   ],
   "source": [
    "%%time\n",
    "path = os.path.join('data', 'mutation-matrix.tsv.bz2')\n",
    "Y = pd.read_table(path, index_col=0)\n"
   ]
  },
  {
   "cell_type": "code",
   "execution_count": 9,
   "metadata": {
    "collapsed": false
   },
   "outputs": [],
   "source": [
    "y = Y[GENE]\n"
   ]
  },
  {
   "cell_type": "code",
   "execution_count": 10,
   "metadata": {
    "collapsed": false
   },
   "outputs": [
    {
     "data": {
      "text/plain": [
       "sample_id\n",
       "TCGA-02-0047-01    0\n",
       "TCGA-02-0055-01    1\n",
       "TCGA-02-2483-01    1\n",
       "TCGA-02-2485-01    1\n",
       "TCGA-02-2486-01    0\n",
       "TCGA-04-1348-01    1\n",
       "Name: TP53, dtype: int64"
      ]
     },
     "execution_count": 10,
     "metadata": {},
     "output_type": "execute_result"
    }
   ],
   "source": [
    "# The Series now holds TP53 Mutation Status for each Sample\n",
    "y.head(6)\n"
   ]
  },
  {
   "cell_type": "code",
   "execution_count": 11,
   "metadata": {
    "collapsed": false
   },
   "outputs": [
    {
     "data": {
      "text/html": [
       "<div>\n",
       "<table border=\"1\" class=\"dataframe\">\n",
       "  <thead>\n",
       "    <tr style=\"text-align: right;\">\n",
       "      <th></th>\n",
       "      <th>A1BG</th>\n",
       "      <th>A1CF</th>\n",
       "      <th>A2BP1</th>\n",
       "      <th>A2LD1</th>\n",
       "      <th>A2M</th>\n",
       "      <th>A2ML1</th>\n",
       "      <th>A4GALT</th>\n",
       "      <th>A4GNT</th>\n",
       "      <th>AAA1</th>\n",
       "      <th>AAAS</th>\n",
       "      <th>...</th>\n",
       "      <th>ZXDA</th>\n",
       "      <th>ZXDB</th>\n",
       "      <th>ZXDC</th>\n",
       "      <th>ZYG11A</th>\n",
       "      <th>ZYG11B</th>\n",
       "      <th>ZYX</th>\n",
       "      <th>ZZEF1</th>\n",
       "      <th>ZZZ3</th>\n",
       "      <th>psiTPTE22</th>\n",
       "      <th>tAKR</th>\n",
       "    </tr>\n",
       "    <tr>\n",
       "      <th>sample_id</th>\n",
       "      <th></th>\n",
       "      <th></th>\n",
       "      <th></th>\n",
       "      <th></th>\n",
       "      <th></th>\n",
       "      <th></th>\n",
       "      <th></th>\n",
       "      <th></th>\n",
       "      <th></th>\n",
       "      <th></th>\n",
       "      <th></th>\n",
       "      <th></th>\n",
       "      <th></th>\n",
       "      <th></th>\n",
       "      <th></th>\n",
       "      <th></th>\n",
       "      <th></th>\n",
       "      <th></th>\n",
       "      <th></th>\n",
       "      <th></th>\n",
       "      <th></th>\n",
       "    </tr>\n",
       "  </thead>\n",
       "  <tbody>\n",
       "    <tr>\n",
       "      <th>TCGA-02-0047-01</th>\n",
       "      <td>6.98</td>\n",
       "      <td>0.0</td>\n",
       "      <td>7.940</td>\n",
       "      <td>5.81</td>\n",
       "      <td>15.1</td>\n",
       "      <td>5.40</td>\n",
       "      <td>5.22</td>\n",
       "      <td>1.160</td>\n",
       "      <td>1.160</td>\n",
       "      <td>8.87</td>\n",
       "      <td>...</td>\n",
       "      <td>6.05</td>\n",
       "      <td>8.48</td>\n",
       "      <td>10.10</td>\n",
       "      <td>0.691</td>\n",
       "      <td>10.20</td>\n",
       "      <td>11.9</td>\n",
       "      <td>10.40</td>\n",
       "      <td>9.24</td>\n",
       "      <td>2.96</td>\n",
       "      <td>0.0</td>\n",
       "    </tr>\n",
       "    <tr>\n",
       "      <th>TCGA-02-0055-01</th>\n",
       "      <td>8.62</td>\n",
       "      <td>0.0</td>\n",
       "      <td>7.110</td>\n",
       "      <td>6.41</td>\n",
       "      <td>15.4</td>\n",
       "      <td>1.42</td>\n",
       "      <td>8.93</td>\n",
       "      <td>0.642</td>\n",
       "      <td>0.000</td>\n",
       "      <td>9.22</td>\n",
       "      <td>...</td>\n",
       "      <td>5.45</td>\n",
       "      <td>8.14</td>\n",
       "      <td>9.25</td>\n",
       "      <td>2.600</td>\n",
       "      <td>9.85</td>\n",
       "      <td>13.5</td>\n",
       "      <td>9.25</td>\n",
       "      <td>9.49</td>\n",
       "      <td>3.74</td>\n",
       "      <td>0.0</td>\n",
       "    </tr>\n",
       "    <tr>\n",
       "      <th>TCGA-02-2483-01</th>\n",
       "      <td>8.09</td>\n",
       "      <td>0.0</td>\n",
       "      <td>6.810</td>\n",
       "      <td>5.15</td>\n",
       "      <td>14.4</td>\n",
       "      <td>1.82</td>\n",
       "      <td>6.46</td>\n",
       "      <td>0.000</td>\n",
       "      <td>0.000</td>\n",
       "      <td>10.10</td>\n",
       "      <td>...</td>\n",
       "      <td>4.35</td>\n",
       "      <td>8.67</td>\n",
       "      <td>9.76</td>\n",
       "      <td>5.500</td>\n",
       "      <td>10.20</td>\n",
       "      <td>12.3</td>\n",
       "      <td>9.70</td>\n",
       "      <td>9.46</td>\n",
       "      <td>8.64</td>\n",
       "      <td>0.0</td>\n",
       "    </tr>\n",
       "    <tr>\n",
       "      <th>TCGA-02-2485-01</th>\n",
       "      <td>6.41</td>\n",
       "      <td>0.0</td>\n",
       "      <td>8.010</td>\n",
       "      <td>6.99</td>\n",
       "      <td>12.9</td>\n",
       "      <td>7.73</td>\n",
       "      <td>7.29</td>\n",
       "      <td>0.562</td>\n",
       "      <td>0.000</td>\n",
       "      <td>9.99</td>\n",
       "      <td>...</td>\n",
       "      <td>5.78</td>\n",
       "      <td>8.10</td>\n",
       "      <td>10.40</td>\n",
       "      <td>0.000</td>\n",
       "      <td>10.10</td>\n",
       "      <td>12.3</td>\n",
       "      <td>10.20</td>\n",
       "      <td>9.45</td>\n",
       "      <td>4.06</td>\n",
       "      <td>0.0</td>\n",
       "    </tr>\n",
       "    <tr>\n",
       "      <th>TCGA-02-2486-01</th>\n",
       "      <td>6.77</td>\n",
       "      <td>0.0</td>\n",
       "      <td>2.400</td>\n",
       "      <td>7.58</td>\n",
       "      <td>15.3</td>\n",
       "      <td>6.71</td>\n",
       "      <td>5.49</td>\n",
       "      <td>0.000</td>\n",
       "      <td>0.687</td>\n",
       "      <td>9.46</td>\n",
       "      <td>...</td>\n",
       "      <td>5.03</td>\n",
       "      <td>7.64</td>\n",
       "      <td>9.35</td>\n",
       "      <td>0.000</td>\n",
       "      <td>9.43</td>\n",
       "      <td>12.9</td>\n",
       "      <td>9.30</td>\n",
       "      <td>9.05</td>\n",
       "      <td>6.14</td>\n",
       "      <td>0.0</td>\n",
       "    </tr>\n",
       "    <tr>\n",
       "      <th>TCGA-04-1348-01</th>\n",
       "      <td>6.08</td>\n",
       "      <td>0.0</td>\n",
       "      <td>0.344</td>\n",
       "      <td>7.80</td>\n",
       "      <td>12.5</td>\n",
       "      <td>3.09</td>\n",
       "      <td>6.55</td>\n",
       "      <td>0.621</td>\n",
       "      <td>0.000</td>\n",
       "      <td>11.10</td>\n",
       "      <td>...</td>\n",
       "      <td>5.21</td>\n",
       "      <td>7.88</td>\n",
       "      <td>9.69</td>\n",
       "      <td>2.730</td>\n",
       "      <td>9.13</td>\n",
       "      <td>14.0</td>\n",
       "      <td>8.99</td>\n",
       "      <td>8.90</td>\n",
       "      <td>2.48</td>\n",
       "      <td>0.0</td>\n",
       "    </tr>\n",
       "  </tbody>\n",
       "</table>\n",
       "<p>6 rows × 20501 columns</p>\n",
       "</div>"
      ],
      "text/plain": [
       "                 A1BG  A1CF  A2BP1  A2LD1   A2M  A2ML1  A4GALT  A4GNT   AAA1  \\\n",
       "sample_id                                                                      \n",
       "TCGA-02-0047-01  6.98   0.0  7.940   5.81  15.1   5.40    5.22  1.160  1.160   \n",
       "TCGA-02-0055-01  8.62   0.0  7.110   6.41  15.4   1.42    8.93  0.642  0.000   \n",
       "TCGA-02-2483-01  8.09   0.0  6.810   5.15  14.4   1.82    6.46  0.000  0.000   \n",
       "TCGA-02-2485-01  6.41   0.0  8.010   6.99  12.9   7.73    7.29  0.562  0.000   \n",
       "TCGA-02-2486-01  6.77   0.0  2.400   7.58  15.3   6.71    5.49  0.000  0.687   \n",
       "TCGA-04-1348-01  6.08   0.0  0.344   7.80  12.5   3.09    6.55  0.621  0.000   \n",
       "\n",
       "                  AAAS  ...   ZXDA  ZXDB   ZXDC  ZYG11A  ZYG11B   ZYX  ZZEF1  \\\n",
       "sample_id               ...                                                    \n",
       "TCGA-02-0047-01   8.87  ...   6.05  8.48  10.10   0.691   10.20  11.9  10.40   \n",
       "TCGA-02-0055-01   9.22  ...   5.45  8.14   9.25   2.600    9.85  13.5   9.25   \n",
       "TCGA-02-2483-01  10.10  ...   4.35  8.67   9.76   5.500   10.20  12.3   9.70   \n",
       "TCGA-02-2485-01   9.99  ...   5.78  8.10  10.40   0.000   10.10  12.3  10.20   \n",
       "TCGA-02-2486-01   9.46  ...   5.03  7.64   9.35   0.000    9.43  12.9   9.30   \n",
       "TCGA-04-1348-01  11.10  ...   5.21  7.88   9.69   2.730    9.13  14.0   8.99   \n",
       "\n",
       "                 ZZZ3  psiTPTE22  tAKR  \n",
       "sample_id                               \n",
       "TCGA-02-0047-01  9.24       2.96   0.0  \n",
       "TCGA-02-0055-01  9.49       3.74   0.0  \n",
       "TCGA-02-2483-01  9.46       8.64   0.0  \n",
       "TCGA-02-2485-01  9.45       4.06   0.0  \n",
       "TCGA-02-2486-01  9.05       6.14   0.0  \n",
       "TCGA-04-1348-01  8.90       2.48   0.0  \n",
       "\n",
       "[6 rows x 20501 columns]"
      ]
     },
     "execution_count": 11,
     "metadata": {},
     "output_type": "execute_result"
    }
   ],
   "source": [
    "# top samples\n",
    "X.head(6)"
   ]
  },
  {
   "cell_type": "code",
   "execution_count": 12,
   "metadata": {
    "collapsed": false
   },
   "outputs": [
    {
     "data": {
      "text/plain": [
       "0    0.655334\n",
       "1    0.344666\n",
       "Name: TP53, dtype: float64"
      ]
     },
     "execution_count": 12,
     "metadata": {},
     "output_type": "execute_result"
    }
   ],
   "source": [
    "# Here are the percentage of tumors with NF1\n",
    "y.value_counts(True)\n"
   ]
  },
  {
   "cell_type": "markdown",
   "metadata": {},
   "source": [
    "# Set aside 10% of the data for testing"
   ]
  },
  {
   "cell_type": "code",
   "execution_count": 13,
   "metadata": {
    "collapsed": false
   },
   "outputs": [
    {
     "data": {
      "text/plain": [
       "'Size: 20,501 features, 3,600 training samples, 400 testing samples'"
      ]
     },
     "execution_count": 13,
     "metadata": {},
     "output_type": "execute_result"
    }
   ],
   "source": [
    "# Typically, this can only be done where the number of mutations is large enough\n",
    "# limit X and y for faster testing; I ran out of memory without the limit\n",
    "X_train, X_test, y_train, y_test = train_test_split(X[:4000], y[:4000], test_size=0.1, random_state=0)\n",
    "'Size: {:,} features, {:,} training samples, {:,} testing samples'.format(len(X.columns), len(X_train), len(X_test))\n"
   ]
  },
  {
   "cell_type": "markdown",
   "metadata": {},
   "source": [
    "## Create a pipeline to do the prediction"
   ]
  },
  {
   "cell_type": "code",
   "execution_count": 14,
   "metadata": {
    "collapsed": false
   },
   "outputs": [],
   "source": [
    "clf = neighbors.KNeighborsClassifier()\n",
    "\n",
    "# joblib is used to cross-validate in parallel by setting `n_jobs=-1` in GridSearchCV\n",
    "# Supress joblib warning. See https://github.com/scikit-learn/scikit-learn/issues/6370\n",
    "warnings.filterwarnings('ignore', message='Changing the shape of non-C contiguous array')\n",
    "clf_grid = grid_search.GridSearchCV(estimator=clf, param_grid=param_grid, n_jobs=-1, scoring='roc_auc')\n",
    "pipeline = make_pipeline(\n",
    "    StandardScaler(),  # Feature scaling\n",
    "    clf_grid)"
   ]
  },
  {
   "cell_type": "code",
   "execution_count": 15,
   "metadata": {
    "collapsed": false
   },
   "outputs": [
    {
     "name": "stdout",
     "output_type": "stream",
     "text": [
      "Wall time: 52min 59s\n"
     ]
    }
   ],
   "source": [
    "%%time\n",
    "# Fit the model (the computationally intensive part)\n",
    "pipeline.fit(X=X_train, y=y_train)\n",
    "best_clf = clf_grid.best_estimator_\n",
    "#feature_mask = feature_select.get_support()  # Get a boolean array indicating the selected features\n"
   ]
  },
  {
   "cell_type": "code",
   "execution_count": 16,
   "metadata": {
    "collapsed": false
   },
   "outputs": [
    {
     "name": "stdout",
     "output_type": "stream",
     "text": [
      "Wall time: 7min 52s\n"
     ]
    }
   ],
   "source": [
    "%%time\n",
    "y_pred_train = pipeline.predict_proba(X_train)[:, 1]\n",
    "y_pred_test = pipeline.predict_proba(X_test)[:, 1]\n",
    "\n",
    "def get_threshold_metrics(y_true, y_pred):\n",
    "    roc_columns = ['fpr', 'tpr', 'threshold']\n",
    "    roc_items = zip(roc_columns, roc_curve(y_true, y_pred))\n",
    "    roc_df = pd.DataFrame.from_items(roc_items)\n",
    "    auroc = roc_auc_score(y_true, y_pred)\n",
    "    return {'auroc': auroc, 'roc_df': roc_df}\n",
    "\n",
    "metrics_train = get_threshold_metrics(y_train, y_pred_train)\n",
    "metrics_test = get_threshold_metrics(y_test, y_pred_test)\n"
   ]
  },
  {
   "cell_type": "code",
   "execution_count": 17,
   "metadata": {
    "collapsed": false
   },
   "outputs": [
    {
     "data": {
      "image/png": "[encoded data removed]",
      "text/plain": [
       "<matplotlib.figure.Figure at 0x91a51550>"
      ]
     },
     "metadata": {},
     "output_type": "display_data"
    }
   ],
   "source": [
    "# Plot ROC\n",
    "plt.figure()\n",
    "for label, metrics in ('Training', metrics_train), ('Testing', metrics_test):\n",
    "    roc_df = metrics['roc_df']\n",
    "    plt.plot(roc_df.fpr, roc_df.tpr,\n",
    "        label='{} (AUROC = {:.1%})'.format(label, metrics['auroc']))\n",
    "plt.xlim([0.0, 1.0])\n",
    "plt.ylim([0.0, 1.05])\n",
    "plt.xlabel('False Positive Rate')\n",
    "plt.ylabel('True Positive Rate')\n",
    "plt.title('Predicting TP53 mutation from gene expression (ROC curves)')\n",
    "plt.legend(loc='lower right');"
   ]
  },
  {
   "cell_type": "code",
   "execution_count": null,
   "metadata": {
    "collapsed": true
   },
   "outputs": [],
   "source": []
  }
 ],
 "metadata": {
  "kernelspec": {
   "display_name": "Python 3",
   "language": "python",
   "name": "python3"
  },
  "language_info": {
   "codemirror_mode": {
    "name": "ipython",
    "version": 3
   },
   "file_extension": ".py",
   "mimetype": "text/x-python",
   "name": "python",
   "nbconvert_exporter": "python",
   "pygments_lexer": "ipython3",
   "version": "3.5.2"
  }
 },
 "nbformat": 4,
 "nbformat_minor": 0
}
